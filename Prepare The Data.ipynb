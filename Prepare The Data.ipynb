{
 "cells": [
  {
   "cell_type": "code",
   "execution_count": null,
   "metadata": {},
   "outputs": [],
   "source": [
    "import pandas as pd\n",
    "\n",
    "# Load the s&p500 csv file to read the csv names\n",
    "sp500_components = pd.read_csv('sp500.csv')"
   ]
  },
  {
   "cell_type": "code",
   "execution_count": null,
   "metadata": {},
   "outputs": [],
   "source": [
    "import numpy as np\n",
    "\n",
    "# Create a matrix of 4482 by ~504 by 4, I only need 4 columns per stock, per day, for 4482 days of data or 18 years.\n",
    "days = 4482   \n",
    "components = len(sp500_components)\n",
    "columns = 4    # I'm only using High, Low, Open and Close columns \n",
    "\n",
    "prepared_data_matrix = np.zeros((days,components,columns))\n",
    "\n",
    "\n"
   ]
  },
  {
   "cell_type": "code",
   "execution_count": null,
   "metadata": {},
   "outputs": [],
   "source": [
    "def add_to_data_matrix(csv_file, index):\n",
    "    \n",
    "    csv_data = pd.read_csv(csv_file)\n",
    "    \n",
    "    date = (len(prepared_data_matrix) - 1)\n",
    "    data_size = (len(csv_data) -1)\n",
    "    \n",
    "    if date <= data_size:\n",
    "        counter = date   # 4528 spots counting from the 0th index\n",
    "    else:\n",
    "        counter = data_size # Some number less than 4528\n",
    "    \n",
    "    print('counter =', counter)\n",
    "    \n",
    "    while counter >= 0:\n",
    "        \n",
    "        prepared_data_matrix[date][index][0] = csv_data['Open'][counter]\n",
    "        prepared_data_matrix[date][index][1] = csv_data['High'][counter]\n",
    "        prepared_data_matrix[date][index][2] = csv_data['Low'][counter]\n",
    "        prepared_data_matrix[date][index][3] = csv_data['Close'][counter]\n",
    "        date -= 1\n",
    "        counter -= 1\n",
    "        \n",
    "    print('Finished adding', csv_file, 'data to the prepared_data_matrix!')\n"
   ]
  },
  {
   "cell_type": "code",
   "execution_count": null,
   "metadata": {},
   "outputs": [],
   "source": [
    "import os.path   # To check whether a file exist\n",
    "\n",
    "for index in range (len(sp500_components) - 1):\n",
    "    \n",
    "    stock_symbol = str(sp500_components['Symbol'][index])    # Get the stock symbol\n",
    "    csv_file = ''.join([stock_symbol, '.csv'])    # Create the filename to read from the local directory \n",
    "    \n",
    "    # Read files found in the local directory\n",
    "    if os.path.isfile(csv_file):\n",
    "        print(index, csv_file)\n",
    "        add_to_data_matrix(csv_file, index)\n",
    "    else:\n",
    "        print(\"File not found!\")\n",
    "        \n",
    "print('Done creating prepared_data_matrix!')"
   ]
  },
  {
   "cell_type": "code",
   "execution_count": null,
   "metadata": {},
   "outputs": [],
   "source": [
    "# Load the SPY also known as SPYDR\n",
    "spydr_data = pd.read_csv('SPY.csv')\n",
    "y = spydr_data[['Open', 'High', 'Low', 'Close']].values"
   ]
  },
  {
   "cell_type": "code",
   "execution_count": null,
   "metadata": {},
   "outputs": [],
   "source": [
    "y.shape"
   ]
  },
  {
   "cell_type": "code",
   "execution_count": null,
   "metadata": {},
   "outputs": [],
   "source": [
    "prepared_data_matrix.shape"
   ]
  },
  {
   "cell_type": "code",
   "execution_count": null,
   "metadata": {},
   "outputs": [],
   "source": [
    "# Create 2d matrix from 3d.\n",
    "\n",
    "X = prepared_data_matrix.reshape(days * components, columns)\n",
    "#X = prepared_data_matrix"
   ]
  },
  {
   "cell_type": "code",
   "execution_count": null,
   "metadata": {},
   "outputs": [],
   "source": [
    "X.tofile('X.tsv', sep=\"\\t\", format=\"%s\")"
   ]
  },
  {
   "cell_type": "code",
   "execution_count": null,
   "metadata": {},
   "outputs": [],
   "source": [
    "# Plots\n",
    "import matplotlib as mpl\n",
    "import matplotlib.pyplot as plt\n",
    "import matplotlib.cm as cm\n",
    "from sklearn.preprocessing import StandardScaler\n",
    "# Clustering\n",
    "from sklearn.manifold import TSNE\n",
    "from sklearn import cluster\n",
    "# Bokeh\n",
    "from bokeh.io import output_notebook\n",
    "from bokeh.plotting import figure, show, ColumnDataSource\n",
    "from bokeh.models import HoverTool"
   ]
  },
  {
   "cell_type": "code",
   "execution_count": null,
   "metadata": {},
   "outputs": [],
   "source": [
    "%matplotlib inline\n",
    "output_notebook()"
   ]
  },
  {
   "cell_type": "code",
   "execution_count": null,
   "metadata": {},
   "outputs": [],
   "source": [
    "# Normalize the data\n",
    "from sklearn.preprocessing import StandardScaler\n",
    "X = StandardScaler().fit_transform(X)"
   ]
  },
  {
   "cell_type": "code",
   "execution_count": null,
   "metadata": {},
   "outputs": [],
   "source": [
    "#TSNE\n",
    "from sklearn.manifold import TSNE\n",
    "\n",
    "tsne_model = TSNE(n_components=2, verbose=1, random_state=0, angle=.99, init='pca')"
   ]
  },
  {
   "cell_type": "code",
   "execution_count": null,
   "metadata": {},
   "outputs": [],
   "source": [
    "X_tsne = tsne_model.fit_transform(X)"
   ]
  },
  {
   "cell_type": "code",
   "execution_count": null,
   "metadata": {},
   "outputs": [],
   "source": [
    "cl = cluster.AgglomerativeClustering(10)\n",
    "cl.fit(X_tsne)"
   ]
  },
  {
   "cell_type": "code",
   "execution_count": null,
   "metadata": {},
   "outputs": [],
   "source": [
    "plt.figure(figsize=(12,4))\n",
    "plt.subplot(1,2,1)\n",
    "cmap = plt.cm.get_cmap('jet')\n",
    "plt.scatter(X_tsne[:len(y),0], X_tsne[:len(y),1], \n",
    "            alpha=0.5, c=y, cmap=cmap, s=20)\n",
    "plt.colorbar()\n",
    "plt.subplot(1,2,2)\n",
    "plt.scatter(X_tsne[len(y):,0], X_tsne[len(y):,1], \n",
    "            alpha=0.4, c=cl.labels_[len(y):], marker='s', s=20)"
   ]
  },
  {
   "cell_type": "code",
   "execution_count": null,
   "metadata": {},
   "outputs": [],
   "source": [
    "plt.show()"
   ]
  }
 ],
 "metadata": {
  "kernelspec": {
   "display_name": "Python 3",
   "language": "python",
   "name": "python3"
  },
  "language_info": {
   "codemirror_mode": {
    "name": "ipython",
    "version": 3
   },
   "file_extension": ".py",
   "mimetype": "text/x-python",
   "name": "python",
   "nbconvert_exporter": "python",
   "pygments_lexer": "ipython3",
   "version": "3.6.5"
  }
 },
 "nbformat": 4,
 "nbformat_minor": 2
}
