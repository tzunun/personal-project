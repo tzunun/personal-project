{
 "cells": [
  {
   "cell_type": "code",
   "execution_count": null,
   "metadata": {},
   "outputs": [],
   "source": [
    "import pandas as pd\n",
    "# Load the file that would be used to obtain the components of the S&P500 index\n",
    "sp500 = pd.read_csv('sp500.csv')"
   ]
  },
  {
   "cell_type": "code",
   "execution_count": null,
   "metadata": {},
   "outputs": [],
   "source": [
    "# Open the file containing the api key\n",
    "api = open('quandl_api_key', 'r')\n",
    "if api.mode == 'r':\n",
    "    api_key = api.read()\n",
    "    \n",
    "# Close the api file\n",
    "api.close()"
   ]
  },
  {
   "cell_type": "code",
   "execution_count": null,
   "metadata": {},
   "outputs": [],
   "source": [
    "import quandl\n",
    "quandl.ApiConfig.api_key = api_key.strip()"
   ]
  },
  {
   "cell_type": "code",
   "execution_count": null,
   "metadata": {},
   "outputs": [],
   "source": [
    "# Test the connection to the Quandl API\n",
    "test = quandl.get('WIKI/IBM')\n",
    "test.head()"
   ]
  },
  {
   "cell_type": "code",
   "execution_count": null,
   "metadata": {},
   "outputs": [],
   "source": [
    "trouble_stock = []    # List to keep track of the unobtained data.\n",
    "for x in range (len(sp500) - 1):    # Minus 1 because the last line of the sp500 file refers to the source\n",
    "        \n",
    "    try:\n",
    "        stock_symbol = str(sp500['Symbol'][x])    # Get the stock symbol\n",
    "        stock = ''.join(['WIKI/', stock_symbol])       # String required for quandl api ex.  WIKI/AAPL\n",
    "        file_name = ''.join([stock_symbol, '.csv'])    # Create file name for the csv file\n",
    "        print(x, file_name)\n",
    "        \n",
    "        stock_data = quandl.get(stock)    # Get the data from Quandl\n",
    "        stock_data.to_csv(file_name)    # Save the data to disk\n",
    "        \n",
    "    except Exception:\n",
    "        trouble_stock.append(x)    # Keep track of stock_symbol causing issues with a request to quandl\n",
    "        print(x)\n",
    "        pass\n",
    "        \n",
    "        "
   ]
  },
  {
   "cell_type": "code",
   "execution_count": null,
   "metadata": {},
   "outputs": [],
   "source": [
    "''' List the stocks that were not acquired from Quandl,\n",
    "BF.B, BRK.B, EVRG, JEF. Some data is not free and some sites use a slight variation of the stock symbol\n",
    "I was reading the symbols from a csv I obtained from barchart. I manually downloaded the missing data from Yahoo Finance.''' "
   ]
  },
  {
   "cell_type": "code",
   "execution_count": null,
   "metadata": {},
   "outputs": [],
   "source": [
    "'''Show stock symbol and name of the data not obtained from Quandl.  These represent 1 percent of all the data\n",
    "At this point I decided to not include them in the data, although I wonder how this will affect the model. '''\n",
    "for x in trouble_stock:\n",
    "    print(sp500['Symbol'][x], sp500['Name'][x])"
   ]
  }
 ],
 "metadata": {
  "kernelspec": {
   "display_name": "Python 3",
   "language": "python",
   "name": "python3"
  },
  "language_info": {
   "codemirror_mode": {
    "name": "ipython",
    "version": 3
   },
   "file_extension": ".py",
   "mimetype": "text/x-python",
   "name": "python",
   "nbconvert_exporter": "python",
   "pygments_lexer": "ipython3",
   "version": "3.6.5"
  }
 },
 "nbformat": 4,
 "nbformat_minor": 2
}
